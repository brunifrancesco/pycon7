{
 "cells": [
  {
   "cell_type": "markdown",
   "metadata": {
    "slideshow": {
     "slide_type": "slide"
    }
   },
   "source": [
    "# Introduction to functional programming in Python\n",
    "<table style=\"margin-top:30px; border:none\" align=\"left\">\n",
    "    <tr style=\"border:none\"><td style=\"border:none\"><p>Francesco Bruni</p></td></tr>\n",
    "    <tr style=\"border:none\" style=\"width:100%\">\n",
    "        <td style=\"border:none\" style=\"width:90%\"><p>@brunifrancesco</p></td>\n",
    "    </tr>\n",
    "</table>\n"
   ]
  },
  {
   "cell_type": "markdown",
   "metadata": {
    "slideshow": {
     "slide_type": "slide"
    }
   },
   "source": [
    "## Who am I\n",
    "\n",
    "- MSc Student in Telecommunication Engineering @ Poliba\n",
    "- Despite a Java background, I prefer Python whenever possible\n",
    "- I'm not a computer scientist"
   ]
  },
  {
   "cell_type": "markdown",
   "metadata": {
    "collapsed": true,
    "slideshow": {
     "slide_type": "slide"
    }
   },
   "source": [
    "## Agenda\n",
    "\n",
    "- Why functional programming\n",
    "    - Everything's object\n",
    "    - Laziness: why evaluation matters\n",
    "    - Immutable data\n",
    "    - Recursion and/or cycles\n",
    "    - Pattern matching\n",
    "- Mixing OOP with FP\n",
    "- FP suitable patterns\n",
    "- Conclusions\n"
   ]
  },
  {
   "cell_type": "markdown",
   "metadata": {
    "slideshow": {
     "slide_type": "slide"
    }
   },
   "source": [
    "## Disclaimer\n",
    "\n",
    "<p style=\"text-align: center; font-size: 40px\"><strong>I'm not an hoover seller</strong></p>\n"
   ]
  },
  {
   "cell_type": "markdown",
   "metadata": {
    "slideshow": {
     "slide_type": "slide"
    }
   },
   "source": [
    "# Why functional programming\n",
    "\n",
    "- Think in terms of **functions**\n",
    "- Enfatizes using *function evaluation* instead of *state evolution*\n",
    "- Testing is (more) easy\n",
    "- A new viewpoint is required"
   ]
  },
  {
   "cell_type": "markdown",
   "metadata": {
    "slideshow": {
     "slide_type": "slide"
    }
   },
   "source": [
    "## (MATH) What is a function?\n",
    "\n",
    "A **relation** from a set of inputs (X) to a set of possible outputs (Y) where **each** input is related to **exactly** one output.\n",
    "\n",
    "<center>\n",
    "<p style=\"text-align:center; font-size:30px;\">f: X → Y</p>\n",
    "<img src=\"images/function.svg\" />\n",
    "</center>"
   ]
  },
  {
   "cell_type": "code",
   "execution_count": 1,
   "metadata": {
    "collapsed": false,
    "slideshow": {
     "slide_type": "slide"
    }
   },
   "outputs": [],
   "source": [
    "import random\n",
    "def sum_imperative():\n",
    "    res = 0\n",
    "    for n in [random.random() for _ in range(100)]:\n",
    "        res += n\n",
    "    return res\n",
    "\n",
    "def sum_functional():\n",
    "    return sum(random.random() for _ in range(100))\n"
   ]
  },
  {
   "cell_type": "markdown",
   "metadata": {
    "slideshow": {
     "slide_type": "slide"
    }
   },
   "source": [
    "# Functional features in Python\n",
    "\n",
    "- Not all functional patterns apply to Python\n",
    "- Hybrid approach is often requested\n",
    "- Other libraries needs to be (eventually) integrated\n",
    "\n"
   ]
  },
  {
   "cell_type": "markdown",
   "metadata": {
    "slideshow": {
     "slide_type": "slide"
    }
   },
   "source": [
    "## First class (or high order) functions \n",
    "\n",
    "- Since everything's object\n",
    "- Functions are objects too (with fields and methods)\n"
   ]
  },
  {
   "cell_type": "markdown",
   "metadata": {
    "slideshow": {
     "slide_type": "slide"
    }
   },
   "source": [
    "## High order functions\n",
    "\n",
    "- Functions accepting functions as params\n",
    "- Functions returning other functions\n",
    "- **filter**, **map**, **reduce** (now in *itertools* module)"
   ]
  },
  {
   "cell_type": "markdown",
   "metadata": {
    "slideshow": {
     "slide_type": "slide"
    }
   },
   "source": [
    "## (MATH) Function composition in math\n",
    "\n",
    "A pointwise application of one function to the result of another to produce a third function. \n",
    "\n",
    "Given:\n",
    "- f : X → Y \n",
    "- g : Y → Z \n",
    "          \n",
    "<p style=\"text-align:center; font-size:40px\">$g\\circ f$ : X → Z</p>\n"
   ]
  },
  {
   "cell_type": "code",
   "execution_count": 12,
   "metadata": {
    "collapsed": false,
    "slideshow": {
     "slide_type": "slide"
    }
   },
   "outputs": [],
   "source": [
    "\n",
    "def mapper_func(lst, reduce_func):\n",
    "    \"\"\"\n",
    "    Apply a function to each member of <lst>\n",
    "    \"\"\"\n",
    "    return map(reduce_func, lst)\n",
    "\n",
    "for _ in range(0, 100):\n",
    "    assert list(mapper_func([1,2,3], str))  == [\"1\", \"2\", \"3\"]\n",
    "    assert list(mapper_func([\"1\",\"2\",\"3\"], int))  == [1, 2, 3]"
   ]
  },
  {
   "cell_type": "code",
   "execution_count": 16,
   "metadata": {
    "collapsed": false,
    "slideshow": {
     "slide_type": "slide"
    }
   },
   "outputs": [],
   "source": [
    "def check_if_neg(value):\n",
    "        \"\"\"\n",
    "        Check if values is neg\n",
    "        \"\"\"\n",
    "        return value > 0\n",
    "    \n",
    "def filter_negative_numbers(lst):\n",
    "    \"\"\"\n",
    "    Filter negative numbers from <lst>\n",
    "    \"\"\"\n",
    "    return filter(check_if_neg, lst)\n",
    "\n",
    "assert list(filter_negative_numbers([-3, 4, 5, -10, 20])) == [4, 5, 20]"
   ]
  },
  {
   "cell_type": "markdown",
   "metadata": {
    "slideshow": {
     "slide_type": "slide"
    }
   },
   "source": [
    "## Pure functions\n",
    "\n",
    "- Functions cannot include any assignement statement\n",
    "- **lambda functions** are pure functions\n",
    "- No side effects\n",
    "- What about default param values? "
   ]
  },
  {
   "cell_type": "markdown",
   "metadata": {
    "slideshow": {
     "slide_type": "slide"
    }
   },
   "source": [
    "## (MATH) λ calculus\n",
    "\n",
    "- A formal system to fomally analyze functions and their calculus.\n",
    "- It deals with rewriting functions with simplified terms\n",
    "- A formal definition of λ function:\n",
    "\n",
    "<center style=\"font-size:20px\">Λ ::= X |(ΛΛ)|λX.Λ</center>\n",
    "\n",
    "http://infoteorica.weebly.com/uploads/1/7/8/9/17895653/lambda_rid.pdf"
   ]
  },
  {
   "cell_type": "code",
   "execution_count": 8,
   "metadata": {
    "collapsed": false,
    "scrolled": true,
    "slideshow": {
     "slide_type": "slide"
    }
   },
   "outputs": [
    {
     "data": {
      "text/plain": [
       "<map at 0x7fda884154a8>"
      ]
     },
     "execution_count": 8,
     "metadata": {},
     "output_type": "execute_result"
    }
   ],
   "source": [
    "import random\n",
    "def filter_out(result=[random.random() for _ in range(0, 5)]):\n",
    "    \n",
    "    exclude = map(lambda item: item ** 2, range(30))\n",
    "\n",
    "    result = filter(lambda item: item not in exclude, result)\n",
    "    \n",
    "    sorted_result = sorted(result, key=lambda item: str(item)[1])\n",
    "    \n",
    "    return map(lambda item: round(item, 2), sorted_result)\n",
    "    \n",
    "cast_to_float = lambda number: float(number) # discouraged by PEP8\n",
    "filter_out()"
   ]
  },
  {
   "cell_type": "markdown",
   "metadata": {
    "slideshow": {
     "slide_type": "slide"
    }
   },
   "source": [
    "## Practical considerations of λ functions\n",
    "\n",
    "- Inline functions\n",
    "- Concise\n",
    "- No need of defining a *one time* functions\n",
    "- Overusing them is not a solution\n",
    "- assigning λ function to a variable is discouraged (PEP8)"
   ]
  },
  {
   "cell_type": "markdown",
   "metadata": {
    "slideshow": {
     "slide_type": "slide"
    }
   },
   "source": [
    "## Class for function composition\n",
    "Handle class creation via a new class syntax, allowing a \"static\" configuration\n"
   ]
  },
  {
   "cell_type": "code",
   "execution_count": 28,
   "metadata": {
    "collapsed": false,
    "slideshow": {
     "slide_type": "slide"
    }
   },
   "outputs": [
    {
     "data": {
      "text/plain": [
       "[9.593, 8.297, 6.521]"
      ]
     },
     "execution_count": 28,
     "metadata": {},
     "output_type": "execute_result"
    }
   ],
   "source": [
    "from collections.abc import Callable\n",
    "from random import random\n",
    "from statistics import mean\n",
    "\n",
    "class MapReduceFunction(Callable):\n",
    "    \"\"\"\n",
    "    'Chain' two functions to perform map reduce;\n",
    "    the class returns a new callable object\n",
    "    \"\"\"\n",
    "    def __init__(self, map_function, reduce_function):\n",
    "        self.map_function = map_function\n",
    "        self.reduce_function = reduce_function\n",
    "    \n",
    "    def __call__(self, value):\n",
    "        return map(lambda item: self.reduce_function(item), self.map_function(value))\n",
    "\n",
    "data = [round(random()*10, 3) for _ in range(0, 23)]\n",
    "mr = MapReduceFunction(\n",
    "    map_function=lambda item: zip(*[iter(data)] * 7), \n",
    "    reduce_function=lambda item: max(item)\n",
    ")\n",
    "list(mr(data))"
   ]
  },
  {
   "cell_type": "markdown",
   "metadata": {
    "slideshow": {
     "slide_type": "slide"
    }
   },
   "source": [
    "# Immutable vs mutable data structure\n",
    "\n",
    "- Variables don't **vary** any more\n",
    "- Will your program still working?"
   ]
  },
  {
   "cell_type": "code",
   "execution_count": 91,
   "metadata": {
    "collapsed": false,
    "slideshow": {
     "slide_type": "slide"
    }
   },
   "outputs": [
    {
     "name": "stdout",
     "output_type": "stream",
     "text": [
      "Initialized value 100 \n",
      "Value in function 5\n",
      "Final value 100 \n"
     ]
    }
   ],
   "source": [
    "value = 100\n",
    "\n",
    "def change_f_value(new_f_value=5):\n",
    "    value = new_f_value\n",
    "    print(\"Value in function %s\" %value)\n",
    "    \n",
    "print(\"Initialized value %s \"%value)\n",
    "change_f_value()\n",
    "print(\"Final value %s \"%value)"
   ]
  },
  {
   "cell_type": "markdown",
   "metadata": {
    "slideshow": {
     "slide_type": "slide"
    }
   },
   "source": [
    "### Function scopes\n",
    "\n",
    "- Values inside functions exist in the *context* of functions\n",
    "  - Check this evaluating their own *hash value*\n",
    "- What if we wanted change the *value* variable?"
   ]
  },
  {
   "cell_type": "code",
   "execution_count": 7,
   "metadata": {
    "collapsed": false,
    "slideshow": {
     "slide_type": "slide"
    }
   },
   "outputs": [
    {
     "name": "stdout",
     "output_type": "stream",
     "text": [
      "Object ID: 140576565540736\n",
      "Object 'value' field before applying function: 10\n",
      "Object 'value' field after applying function: 3\n",
      "Object ID: 140576565540736\n"
     ]
    }
   ],
   "source": [
    "class Foo:\n",
    "    def __init__(self, value):\n",
    "        self.value = value\n",
    "        \n",
    "foo_obj = Foo(value=10)\n",
    "\n",
    "def func(obj):\n",
    "    obj.value = 3\n",
    "\n",
    "print(\"Object ID: %i\" %id(foo_obj))\n",
    "print(\"Object 'value' field before applying function: %i\" %foo_obj.value)\n",
    "func(foo_obj)\n",
    "print(\"Object 'value' field after applying function: %i\" %foo_obj.value)\n",
    "print(\"Object ID: %i\" %id(foo_obj))"
   ]
  },
  {
   "cell_type": "markdown",
   "metadata": {
    "slideshow": {
     "slide_type": "slide"
    }
   },
   "source": [
    "### Data mutation\n",
    "\n",
    "- *foo_obj* didn't change\n",
    "- **foo_obj.value** changed!\n",
    "- So, foo_obj changed or not? If so, can you always determine who changed it?"
   ]
  },
  {
   "cell_type": "markdown",
   "metadata": {
    "slideshow": {
     "slide_type": "slide"
    }
   },
   "source": [
    "### Closures"
   ]
  },
  {
   "cell_type": "markdown",
   "metadata": {
    "slideshow": {
     "slide_type": "slide"
    }
   },
   "source": [
    "## Immutability\n",
    "\n",
    "- Let's create a new object, instead of modifying an existing one"
   ]
  },
  {
   "cell_type": "code",
   "execution_count": null,
   "metadata": {
    "collapsed": true,
    "slideshow": {
     "slide_type": "slide"
    }
   },
   "outputs": [],
   "source": [
    "import random\n",
    "import pprint\n",
    "from collections import namedtuple\n",
    "\n",
    "MyObj = namedtuple(\"MyClassReplacement\",(\"some_string\", \"my_smart_function\"))\n",
    "o = MyObj(some_string=str(random.random() + 4), my_smart_function=lambda item: float(item)*3)\n",
    "assert(o.my_smart_function(o.some_string) == float(o.some_string) * 3)\n",
    "\n",
    "# guess this\n",
    "#o.some_string = \"aaa\"\n",
    "\n"
   ]
  },
  {
   "cell_type": "markdown",
   "metadata": {
    "slideshow": {
     "slide_type": "subslide"
    }
   },
   "source": [
    "## Strict vs not strict evaluation\n",
    "\n",
    "- Strict evaluation requires that all operators needs to be evaluated\n",
    "- Non strict (or lazy) evaluation, evaluates expression if and when requested"
   ]
  },
  {
   "cell_type": "markdown",
   "metadata": {
    "slideshow": {
     "slide_type": "slide"
    }
   },
   "source": [
    "## (MATH) Truth table\n",
    "\n",
    "\n",
    "<table>\n",
    "<tr>\n",
    "<td style=\"width:50px; text-align:center\"><strong>p</strong></td>\n",
    "<td style=\"width:50px; text-align:center\"><strong>q</strong></td>\n",
    "<td style=\"width:50px; text-align:center\"><strong>p & q</strong></td>\n",
    "</tr>\n",
    "<tr>\n",
    "<td style=\"text-align:center\">T</td>\n",
    "<td style=\"text-align:center\">T</td>\n",
    "<td style=\"text-align:center\">T</td>\n",
    "</tr>\n",
    "<tr>\n",
    "<td style=\"text-align:center\">T</td>\n",
    "<td style=\"text-align:center\">F</td>\n",
    "<td style=\"text-align:center\">F</td>\n",
    "</tr>\n",
    "<tr>\n",
    "<td style=\"text-align:center\">F</td>\n",
    "<td style=\"text-align:center\">T</td>\n",
    "<td style=\"text-align:center\">F</td>\n",
    "</tr>\n",
    "<tr>\n",
    "<td style=\"text-align:center\">F</td>\n",
    "<td style=\"text-align:center\">F</td>\n",
    "<td style=\"text-align:center\">F</td>\n",
    "</tr>\n",
    "</table>\n"
   ]
  },
  {
   "cell_type": "code",
   "execution_count": 68,
   "metadata": {
    "collapsed": false,
    "slideshow": {
     "slide_type": "slide"
    }
   },
   "outputs": [
    {
     "name": "stdout",
     "output_type": "stream",
     "text": [
      "evaluating ALL true values\n",
      "+++++++++++\n",
      "evaluating ALL true values\n",
      "evaluating ANY true values\n"
     ]
    },
    {
     "data": {
      "text/plain": [
       "True"
      ]
     },
     "execution_count": 68,
     "metadata": {},
     "output_type": "execute_result"
    }
   ],
   "source": [
    "import random\n",
    "\n",
    "generate_random_list = lambda size: [random.choice([True, False]) for _ in range(0, size)]\n",
    "\n",
    "def all_true_values(lst):\n",
    "    print(\"evaluating ALL true values\")\n",
    "    return all(lst)\n",
    "\n",
    "def any_true_value(lst):\n",
    "    print(\"evaluating ANY true values\")\n",
    "    return any(lst)\n",
    "\n",
    "all_true_values(generate_random_list(size=10)) and any_true_value(generate_random_list(size=10))\n",
    "print(\"+++++++++++\")\n",
    "all_true_values(generate_random_list(size=10)) or any_true_value(generate_random_list(size=10))\n",
    "\n",
    "\n"
   ]
  },
  {
   "cell_type": "markdown",
   "metadata": {
    "slideshow": {
     "slide_type": "slide"
    }
   },
   "source": [
    "## Use case: Python iterables structures\n",
    "\n",
    "- Creating lists requires time/space\n",
    "- What if you don't need it anymore?\n",
    "- Be lazy: use functions to **generate** the element you need, also in iterables"
   ]
  },
  {
   "cell_type": "code",
   "execution_count": 94,
   "metadata": {
    "collapsed": false,
    "slideshow": {
     "slide_type": "slide"
    }
   },
   "outputs": [
    {
     "name": "stdout",
     "output_type": "stream",
     "text": [
      "[0.4614800399496741, 0.6936061338751625, 0.6455814839628797, 0.6036356634912029, 0.5594124924886037]\n",
      "<list_iterator object at 0x1109321d0>\n",
      "<generator object lazy_1 at 0x11092f3a8>\n",
      "<generator object lazy_2 at 0x11092f3a8>\n"
     ]
    }
   ],
   "source": [
    "import random\n",
    "\n",
    "def _lc(size=100):\n",
    "    return [random.random() for _ in range(0, 5)]\n",
    "\n",
    "def _iter(size=100):\n",
    "    return iter([random.random() for _ in range(0, 100)])\n",
    "\n",
    "def lazy_1(size=100):\n",
    "     for item in range(10, size):\n",
    "        if not item % 2 and not str(item).endswith(\"4\"):\n",
    "            yield item\n",
    "\n",
    "def lazy_2(size=100):\n",
    "    yield from (r for r in range(10, size) if not r % 2 and not str(r).endswith(\"4\"))\n",
    "\n",
    "print(_lc())\n",
    "print(_iter())\n",
    "print(lazy_1())\n",
    "print(lazy_2())"
   ]
  },
  {
   "cell_type": "markdown",
   "metadata": {
    "slideshow": {
     "slide_type": "slide"
    }
   },
   "source": [
    "## Recursion vs loop\n",
    "- Functional programming requires a recursion approach vs loop iteration\n",
    "- Python suffers by recursion limit\n",
    "- Python does not offer any tail call optimization"
   ]
  },
  {
   "cell_type": "code",
   "execution_count": 34,
   "metadata": {
    "collapsed": false,
    "slideshow": {
     "slide_type": "slide"
    }
   },
   "outputs": [
    {
     "name": "stdout",
     "output_type": "stream",
     "text": [
      "CPU times: user 0 ns, sys: 0 ns, total: 0 ns\n",
      "Wall time: 33.9 µs\n",
      "CPU times: user 0 ns, sys: 0 ns, total: 0 ns\n",
      "Wall time: 97.8 µs\n",
      "CPU times: user 0 ns, sys: 0 ns, total: 0 ns\n",
      "Wall time: 66.5 µs\n"
     ]
    },
    {
     "data": {
      "text/plain": [
       "93326215443944152681699238856266700490715968264381621468592963895217599993229915608941463976156518286253697920827223758251185210916864000000000000000000000000"
      ]
     },
     "execution_count": 34,
     "metadata": {},
     "output_type": "execute_result"
    }
   ],
   "source": [
    "def facti(n):\n",
    "    if n == 0: return 1\n",
    "    f= 1\n",
    "    for i in range(2,n):\n",
    "        f *= i\n",
    "    return f\n",
    "\n",
    "def fact_nt(n):\n",
    "    if n == 0: return 1\n",
    "    else: return n*fact(n-1)\n",
    "\n",
    "def fact(n, acc=1):\n",
    "    if n == 0:\n",
    "        return acc\n",
    "    return fact(n-1, acc*n)\n",
    "\n",
    "%time facti(100)\n",
    "%time fact_nt(100)\n",
    "%time fact(100)"
   ]
  },
  {
   "cell_type": "markdown",
   "metadata": {
    "slideshow": {
     "slide_type": "slide"
    }
   },
   "source": [
    "## Currying\n",
    "\n",
    "Multiple arguments functions mapped to single arguments functions"
   ]
  },
  {
   "cell_type": "code",
   "execution_count": 19,
   "metadata": {
    "collapsed": false,
    "slideshow": {
     "slide_type": "slide"
    }
   },
   "outputs": [],
   "source": [
    "from random import randrange\n",
    "\n",
    "def mult(a, b, c ):\n",
    "    def wrapper_1(b):\n",
    "        def wrapper_2(c):\n",
    "            return a*b*c\n",
    "        return wrapper_2(c)\n",
    "    return wrapper_1(b)\n",
    "\n",
    "\n",
    "def mult_2(a):\n",
    "    def wrapper_1(b):\n",
    "        def wrapper_2(c):\n",
    "            return a*b*c\n",
    "        return wrapper_2\n",
    "    return wrapper_1\n",
    "\n",
    "\n",
    "assert(mult(2,4,8) == 64)\n",
    "assert(mult_2(2)(3)(4) == 24)"
   ]
  },
  {
   "cell_type": "markdown",
   "metadata": {
    "slideshow": {
     "slide_type": "slide"
    }
   },
   "source": [
    "## Partials\n",
    "Python provides \"partial\" functions for manual currying"
   ]
  },
  {
   "cell_type": "code",
   "execution_count": 1,
   "metadata": {
    "collapsed": false,
    "slideshow": {
     "slide_type": "slide"
    }
   },
   "outputs": [],
   "source": [
    "from functools import reduce\n",
    "import operator\n",
    "import random\n",
    "\n",
    "def two_random_sum():\n",
    "    return reduce(operator.sum, [random.random()]*2)\n",
    "\n",
    "def three_random_product():\n",
    "    return reduce(operator.mul, [random.random()]*3)\n",
    "\n",
    "def four_random_sub():\n",
    "    return reduce(operator.sub, [random.random()]*4)\n",
    "\n",
    "def five_random_pow ():\n",
    "    return reduce(operator.pow, [random.random()]*5)\n"
   ]
  },
  {
   "cell_type": "code",
   "execution_count": 24,
   "metadata": {
    "collapsed": false,
    "slideshow": {
     "slide_type": "slide"
    }
   },
   "outputs": [],
   "source": [
    "def handle_random_numbers(size, function):\n",
    "    return reduce(function, [random.random()]*size)\n",
    "\n",
    "two_random_sum = partial(handle_random_numbers, size=2)\n",
    "three_random_sum = partial(handle_random_numbers, size=3)\n",
    "\n",
    "two_random_pow = partial(handle_random_numbers, size=2, function=operator.pow)\n",
    "five_random_product = partial(handle_random_numbers, size=5, function=operator.mul)\n"
   ]
  },
  {
   "cell_type": "markdown",
   "metadata": {
    "slideshow": {
     "slide_type": "slide"
    }
   },
   "source": [
    "## Decorator Pattern\n",
    "\n",
    "- Return a modified version of a decorated function\n",
    "- Add properties at runtime, before using the actual decorated function"
   ]
  },
  {
   "cell_type": "code",
   "execution_count": 30,
   "metadata": {
    "collapsed": false,
    "slideshow": {
     "slide_type": "slide"
    }
   },
   "outputs": [],
   "source": [
    "from functools import wraps\n",
    "from functools import partial\n",
    "\n",
    "def get_ned_data(n):\n",
    "    def get_doubled_data(func, *args, **kwargs):\n",
    "        @wraps(func)\n",
    "        def _inner(*args, **kwargs):\n",
    "            kwargs[\"multiplied_by_n_param\"] = kwargs[\"initial_param\"]*n\n",
    "            return func(*args, **kwargs)\n",
    "        return _inner\n",
    "    return get_doubled_data"
   ]
  },
  {
   "cell_type": "code",
   "execution_count": 42,
   "metadata": {
    "collapsed": false,
    "slideshow": {
     "slide_type": "slide"
    }
   },
   "outputs": [],
   "source": [
    "@get_ned_data(n=2)\n",
    "def double_func(*args, **kwargs):\n",
    "    assert(kwargs[\"multiplied_by_n_param\"] == kwargs[\"initial_param\"]*2)\n",
    "\n",
    "@get_ned_data(n=3)\n",
    "def triple_func(*args, **kwargs):\n",
    "    assert(kwargs[\"multiplied_by_n_param\"] == kwargs[\"initial_param\"]*3)\n",
    "    \n",
    "double_func(initial_param=3)\n",
    "triple_func(initial_param=5)"
   ]
  },
  {
   "cell_type": "markdown",
   "metadata": {
    "slideshow": {
     "slide_type": "slide"
    }
   },
   "source": [
    "# FP patterns\n",
    "\n",
    "- Option pattern\n",
    "- Memoization\n",
    "- Actor model"
   ]
  },
  {
   "cell_type": "markdown",
   "metadata": {
    "slideshow": {
     "slide_type": "slide"
    }
   },
   "source": [
    "## Option pattern\n",
    "\n",
    "- How to handle error in functional programming?\n",
    "- How to implement pipelined ops?"
   ]
  },
  {
   "cell_type": "code",
   "execution_count": 72,
   "metadata": {
    "collapsed": true,
    "slideshow": {
     "slide_type": "slide"
    }
   },
   "outputs": [],
   "source": [
    "class Container:\n",
    "    def __init__(self, value=None):\n",
    "        self.value = value\n",
    "    \n",
    "    def apply(self, function):\n",
    "        try:\n",
    "            return Full(function(self.value))\n",
    "        except Exception as e:\n",
    "            return Empty()\n",
    "    \n",
    "\n",
    "class Empty(Container):\n",
    "    def apply(self, value):\n",
    "        return Empty()\n",
    "\n",
    "    def __str__(self):\n",
    "        return \"Container's empty\"\n",
    "\n",
    "class Full(Container):\n",
    "    def __str__(self):\n",
    "        return self.value\n",
    "    \n",
    "    def get_or(self, none_value=None):\n",
    "        return self.value or none_value"
   ]
  },
  {
   "cell_type": "code",
   "execution_count": 84,
   "metadata": {
    "collapsed": false,
    "slideshow": {
     "slide_type": "slide"
    }
   },
   "outputs": [
    {
     "name": "stdout",
     "output_type": "stream",
     "text": [
      "11\n",
      "(8.297, 7.963, 6.004, 5.352, 3.367, 3.062, 7.801)\n"
     ]
    }
   ],
   "source": [
    "map_function=lambda item: zip(*[iter(data)] * 7)\n",
    "reduce_function=lambda item: max(item)\n",
    "\n",
    "print(Container(\"some_string\")\n",
    "      .apply(lambda item: len(item))\\\n",
    "      .apply(lambda item: str(item))\n",
    "      )\n",
    "result = Container(round(random()*10, 3) for _ in range(0, 23))\\\n",
    "    .apply(map_function)\\\n",
    "    .apply(reduce_function)\\\n",
    "    .get_or(0)\n",
    "print(result)"
   ]
  },
  {
   "cell_type": "code",
   "execution_count": 81,
   "metadata": {
    "collapsed": false,
    "slideshow": {
     "slide_type": "slide"
    }
   },
   "outputs": [],
   "source": [
    "from fn.monad import optionable\n",
    "from collections import namedtuple\n",
    "\n",
    "def get(request, *args, **kwargs):\n",
    "    @optionable\n",
    "    def _get_values(data):\n",
    "        return data.get(\"values\", None)\n",
    "    _split = lambda item: item.split(\",\")\n",
    "    _strip = lambda item: item.replace(\" \", \"\")\n",
    "    _filter = lambda item: list(filter(lambda i: i, item))\n",
    "    values = _get_values(request.body).map(_strip).map(_split).map(_filter).get_or([\"v1,v2\"])\n",
    "    return values\n",
    "\n",
    "req_class = namedtuple(\"Request\", (\"body\",))\n",
    "\n",
    "request_1 = req_class(dict(values=\"v1, v2,v3\"))\n",
    "request_2 = req_class(dict(values=\"v1,v2,v3 \"))\n",
    "request_3 = req_class(dict(values=\"v1, v2,v3, \"))\n",
    "\n",
    "assert(get(request_1) == ['v1', 'v2', 'v3'])\n",
    "assert(get(request_2) == ['v1', 'v2', 'v3'])\n",
    "assert(get(request_3) == ['v1', 'v2', 'v3'])"
   ]
  },
  {
   "cell_type": "markdown",
   "metadata": {
    "slideshow": {
     "slide_type": "slide"
    }
   },
   "source": [
    "## Memoization"
   ]
  },
  {
   "cell_type": "markdown",
   "metadata": {
    "slideshow": {
     "slide_type": "slide"
    }
   },
   "source": [
    "## Actors\n",
    "\n",
    "- Message passing pattern\n",
    "- Actors receive a message, do something, return new messages (or None)\n",
    "- They behave like humans"
   ]
  },
  {
   "cell_type": "markdown",
   "metadata": {
    "slideshow": {
     "slide_type": "slide"
    }
   },
   "source": [
    "# Useful libraries\n",
    "\n",
    "- **fn.py**\n",
    "- **pyMonads**\n",
    "- **pyPrsisten**\n",
    "- **toolz**\n",
    "- **pykka**\n",
    "- **pulsar**\n",
    "- **cleveland**\n",
    "- **underscore.py** (ported from underscore_js)"
   ]
  },
  {
   "cell_type": "markdown",
   "metadata": {
    "slideshow": {
     "slide_type": "slide"
    }
   },
   "source": [
    "# Summary\n",
    "- Functional programming for writing more succint code\n",
    "- Change viewpoint: think in terms of function (and start applying maths to code)\n",
    "- Python seems for dummies until you show some cool features"
   ]
  },
  {
   "cell_type": "markdown",
   "metadata": {
    "slideshow": {
     "slide_type": "slide"
    }
   },
   "source": [
    "# Questions?"
   ]
  }
 ],
 "metadata": {
  "celltoolbar": "Slideshow",
  "kernelspec": {
   "display_name": "Python 3",
   "language": "python",
   "name": "python3"
  },
  "language_info": {
   "codemirror_mode": {
    "name": "ipython",
    "version": 3
   },
   "file_extension": ".py",
   "mimetype": "text/x-python",
   "name": "python",
   "nbconvert_exporter": "python",
   "pygments_lexer": "ipython3",
   "version": "3.5.1"
  }
 },
 "nbformat": 4,
 "nbformat_minor": 0
}
