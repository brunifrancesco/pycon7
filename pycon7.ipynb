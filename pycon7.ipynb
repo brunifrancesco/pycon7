{
 "cells": [
  {
   "cell_type": "markdown",
   "metadata": {
    "slideshow": {
     "slide_type": "slide"
    }
   },
   "source": [
    "# Introduction to functional programming in Python\n",
    "<table style=\"margin-top:30px; border:none\" align=\"left\">\n",
    "    <tr style=\"border:none\"><td style=\"border:none\"><p>Francesco Bruni</p></td></tr>\n",
    "    <tr style=\"border:none\" style=\"width:100%\">\n",
    "        <td style=\"border:none\" style=\"width:90%\"><p>@brunifrancesco</p></td>\n",
    "    </tr>\n",
    "</table>\n"
   ]
  },
  {
   "cell_type": "markdown",
   "metadata": {
    "slideshow": {
     "slide_type": "subslide"
    }
   },
   "source": [
    "## Who am I\n",
    "\n",
    "- MSc Student in Telecommunication Engineering @ Poliba\n",
    "- Despite a Java background, I prefer Python whenever possible\n",
    "- I'm not a computer scientist"
   ]
  },
  {
   "cell_type": "markdown",
   "metadata": {
    "collapsed": true,
    "slideshow": {
     "slide_type": "subslide"
    }
   },
   "source": [
    "## Agenda\n",
    "\n",
    "- Why functional programming\n",
    "    - Everything's object\n",
    "    - Laziness: why evaluation matters\n",
    "    - Immutable data\n",
    "    - Recursion and/or cycles\n",
    "    - Pattern matching\n",
    "- Mixing OOP with FP\n",
    "- FP suitable patterns\n",
    "- Conclusions\n"
   ]
  },
  {
   "cell_type": "markdown",
   "metadata": {
    "slideshow": {
     "slide_type": "subslide"
    }
   },
   "source": [
    "## Disclaimer\n",
    "\n",
    "<p style=\"text-align: center; font-size: 40px\"><strong>I'm not an hoover seller</strong></p>\n"
   ]
  },
  {
   "cell_type": "markdown",
   "metadata": {
    "slideshow": {
     "slide_type": "slide"
    }
   },
   "source": [
    "# Why functional programming\n",
    "\n",
    "- Think in terms of **functions**\n",
    "- Enfatizes using *function evaluation* instead of *state evolution*\n",
    "- Testing is (more) easy\n",
    "- A new viewpoint is required"
   ]
  },
  {
   "cell_type": "markdown",
   "metadata": {
    "slideshow": {
     "slide_type": "subslide"
    }
   },
   "source": [
    "## What is a function?\n",
    "\n",
    "A **relation** from a set of inputs (X) to a set of possible outputs (Y) where **each** input is related to **exactly** one output.\n",
    "\n",
    "<p style=\"text-align:center; font-size:20px;\">f: X → Y</p>\n",
    "<img src=\"images/function.svg\" />"
   ]
  },
  {
   "cell_type": "code",
   "execution_count": 1,
   "metadata": {
    "collapsed": false,
    "slideshow": {
     "slide_type": "subslide"
    }
   },
   "outputs": [],
   "source": [
    "import random\n",
    "def sum_imperative():\n",
    "    res = 0\n",
    "    for n in [random.random() for _ in range(100)]:\n",
    "        res += n\n",
    "    return res\n",
    "\n",
    "def sum_functional():\n",
    "    return sum(random.random() for _ in range(100))\n"
   ]
  },
  {
   "cell_type": "markdown",
   "metadata": {
    "slideshow": {
     "slide_type": "slide"
    }
   },
   "source": [
    "# Functional features in Python\n",
    "\n",
    "- Not all functional patterns apply to Python\n",
    "- Hybrid approach is often requested\n",
    "- Other libraries needs to be (eventually) integrated\n",
    "\n"
   ]
  },
  {
   "cell_type": "markdown",
   "metadata": {
    "slideshow": {
     "slide_type": "subslide"
    }
   },
   "source": [
    "## First class (or high order) functions and \n",
    "\n",
    "- Since everything's object\n",
    "- Functions are objects too (with fields and methods)\n"
   ]
  },
  {
   "cell_type": "code",
   "execution_count": 1,
   "metadata": {
    "collapsed": false,
    "slideshow": {
     "slide_type": "subslide"
    }
   },
   "outputs": [
    {
     "name": "stdout",
     "output_type": "stream",
     "text": [
      "**Doc**: \n",
      "    Sum undefined number of values\n",
      "    \n",
      "**Name**: \n",
      "    sum_values\n"
     ]
    }
   ],
   "source": [
    "def sum_values(*args, **kwargs):\n",
    "    \"\"\"\n",
    "    Sum undefined number of values\n",
    "    \"\"\"\n",
    "    return sum(args)\n",
    "    \n",
    "    def __repr__(self):\n",
    "        return \"here\"\n",
    "\n",
    "print(\"**Doc**: %s\" %sum_values.__doc__)\n",
    "print(\"**Name**: \\n    %s\" %sum_values.__name__)\n",
    "\n",
    "\n"
   ]
  },
  {
   "cell_type": "markdown",
   "metadata": {
    "slideshow": {
     "slide_type": "subslide"
    }
   },
   "source": [
    "## High order functions\n",
    "\n",
    "- Functions accepting functions as params\n",
    "- Functions returning other functions\n",
    "- **filter**, **map**, **reduce** (now in *itertools* module)"
   ]
  },
  {
   "cell_type": "markdown",
   "metadata": {},
   "source": [
    "## Function composition in math\n",
    "\n",
    "A pointwise application of one function to the result of another to produce a third function. \n",
    "\n",
    "Given:\n",
    "- f : X → Y \n",
    "- g : Y → Z \n",
    "          \n",
    "<p style=\"text-align:center; font-size:20px\">$g\\circ f$ : X → Z</p>\n"
   ]
  },
  {
   "cell_type": "code",
   "execution_count": 12,
   "metadata": {
    "collapsed": false
   },
   "outputs": [],
   "source": [
    "\n",
    "def mapper_func(lst, reduce_func):\n",
    "    \"\"\"\n",
    "    Apply a function to each member of <lst>\n",
    "    \"\"\"\n",
    "    return map(reduce_func, lst)\n",
    "\n",
    "for _ in range(0, 100):\n",
    "    assert list(mapper_func([1,2,3], str))  == [\"1\", \"2\", \"3\"]\n",
    "    assert list(mapper_func([\"1\",\"2\",\"3\"], int))  == [1, 2, 3]"
   ]
  },
  {
   "cell_type": "code",
   "execution_count": 16,
   "metadata": {
    "collapsed": false
   },
   "outputs": [],
   "source": [
    "def check_if_neg(value):\n",
    "        \"\"\"\n",
    "        Check if values is neg\n",
    "        \"\"\"\n",
    "        return value > 0\n",
    "    \n",
    "def filter_negative_numbers(lst):\n",
    "    \"\"\"\n",
    "    Filter negative numbers from <lst>\n",
    "    \"\"\"\n",
    "    return filter(check_if_neg, lst)\n",
    "\n",
    "assert list(filter_negative_numbers([-3, 4, 5, -10, 20])) == [4, 5, 20]"
   ]
  },
  {
   "cell_type": "markdown",
   "metadata": {},
   "source": [
    "## Pure functions\n",
    "\n",
    "- Functions cannot include any assignement statement\n",
    "- **lambda functions** are pure functions\n",
    "- No side effects\n",
    "- What about default param values? "
   ]
  },
  {
   "cell_type": "markdown",
   "metadata": {},
   "source": [
    "## λ calculus\n",
    "\n",
    "- A formal system to fomally analyze functions and their calculus.\n",
    "- It deals with rewriting functions with simplified terms\n",
    "- A formal definition of λ function:\n",
    "\n",
    "<center style=\"font-size:20px\">Λ ::= X |(ΛΛ)|λX.Λ</center>\n",
    "\n",
    "http://infoteorica.weebly.com/uploads/1/7/8/9/17895653/lambda_rid.pdf"
   ]
  },
  {
   "cell_type": "code",
   "execution_count": 17,
   "metadata": {
    "collapsed": false,
    "slideshow": {
     "slide_type": "subslide"
    }
   },
   "outputs": [
    {
     "data": {
      "text/plain": [
       "<map at 0x105ece518>"
      ]
     },
     "execution_count": 17,
     "metadata": {},
     "output_type": "execute_result"
    }
   ],
   "source": [
    "import random\n",
    "def filter_out(result=[random.random() for _ in range(0, 5)]):\n",
    "    \n",
    "    exclude = map(lambda item: item ** 2, range(30))\n",
    "\n",
    "    result = filter(lambda item: item not in exclude, result)\n",
    "    \n",
    "    sorted_result = sorted(result, key=lambda item: str(item)[1])\n",
    "    \n",
    "    return map(lambda item: round(item, 2), sorted_result)\n",
    "    \n",
    "cast_to_float = lambda number: float(number)\n",
    "filter_out()"
   ]
  },
  {
   "cell_type": "markdown",
   "metadata": {},
   "source": [
    "## Practical considerations of λ functions\n",
    "\n",
    "- Inline functions\n",
    "- Concise\n",
    "- No need of defining a *one time* functions\n",
    "- Overusing them is not a solution\n",
    "- assigning λ function to a variable is discouraged (PEP8)"
   ]
  },
  {
   "cell_type": "markdown",
   "metadata": {
    "slideshow": {
     "slide_type": "subslide"
    }
   },
   "source": [
    "## Class for function composition\n",
    "Handle class creation via a new class syntax, allowing a \"static\" configuration\n"
   ]
  },
  {
   "cell_type": "code",
   "execution_count": 20,
   "metadata": {
    "collapsed": false
   },
   "outputs": [
    {
     "ename": "NameError",
     "evalue": "name 'python_better_approach' is not defined",
     "output_type": "error",
     "traceback": [
      "\u001b[0;31m---------------------------------------------------------------------------\u001b[0m",
      "\u001b[0;31mNameError\u001b[0m                                 Traceback (most recent call last)",
      "\u001b[0;32m<ipython-input-20-31f38d26dc50>\u001b[0m in \u001b[0;36m<module>\u001b[0;34m()\u001b[0m\n\u001b[1;32m      9\u001b[0m \u001b[0;34m\u001b[0m\u001b[0m\n\u001b[1;32m     10\u001b[0m \u001b[0;31m# fare esempio con map reduce\u001b[0m\u001b[0;34m\u001b[0m\u001b[0;34m\u001b[0m\u001b[0m\n\u001b[0;32m---> 11\u001b[0;31m \u001b[0mresult\u001b[0m \u001b[0;34m=\u001b[0m \u001b[0mpython_better_approach\u001b[0m\u001b[0;34m(\u001b[0m\u001b[0msize\u001b[0m\u001b[0;34m=\u001b[0m\u001b[0;36m100\u001b[0m\u001b[0;34m)\u001b[0m\u001b[0;34m\u001b[0m\u001b[0m\n\u001b[0m\u001b[1;32m     12\u001b[0m \u001b[0mexclude_function_1\u001b[0m \u001b[0;34m=\u001b[0m \u001b[0;32mlambda\u001b[0m \u001b[0mitem\u001b[0m\u001b[0;34m:\u001b[0m \u001b[0mitem\u001b[0m \u001b[0;34m**\u001b[0m \u001b[0;36m2\u001b[0m\u001b[0;34m\u001b[0m\u001b[0m\n\u001b[1;32m     13\u001b[0m \u001b[0mex_func\u001b[0m \u001b[0;34m=\u001b[0m \u001b[0mExcludeFunction\u001b[0m\u001b[0;34m(\u001b[0m\u001b[0mexclude_function_1\u001b[0m\u001b[0;34m)\u001b[0m\u001b[0;34m\u001b[0m\u001b[0m\n",
      "\u001b[0;31mNameError\u001b[0m: name 'python_better_approach' is not defined"
     ]
    }
   ],
   "source": [
    "from collections.abc import Callable\n",
    "\n",
    "class ExcludeFunction(Callable):\n",
    "    def __init__(self, exclude_function):\n",
    "        self.exclude_function= exclude_function\n",
    "    \n",
    "    def __call__(self, value):\n",
    "        return None if not value else self.exclude_function(value)\n",
    "\n",
    "# fare esempio con map reduce\n",
    "result = python_better_approach(size=100)\n",
    "exclude_function_1 = lambda item: item ** 2\n",
    "ex_func = ExcludeFunction(exclude_function_1)\n",
    "\n",
    "result = filter(lambda item: not item == ex_func(item), result)\n",
    "assert(sorted(result, key=lambda item: str(item)[1]) == filter_out())"
   ]
  },
  {
   "cell_type": "markdown",
   "metadata": {
    "slideshow": {
     "slide_type": "subslide"
    }
   },
   "source": [
    "# Immutable vs mutable data structure\n",
    "\n",
    "- Variables don't **vary** any more\n",
    "- Will your program still working?"
   ]
  },
  {
   "cell_type": "code",
   "execution_count": 91,
   "metadata": {
    "collapsed": false,
    "slideshow": {
     "slide_type": "subslide"
    }
   },
   "outputs": [
    {
     "name": "stdout",
     "output_type": "stream",
     "text": [
      "Initialized value 100 \n",
      "Value in function 5\n",
      "Final value 100 \n"
     ]
    }
   ],
   "source": [
    "value = 100\n",
    "\n",
    "def change_f_value(new_f_value=5):\n",
    "    value = new_f_value\n",
    "    print(\"Value in function %s\" %value)\n",
    "    \n",
    "print(\"Initialized value %s \"%value)\n",
    "change_f_value()\n",
    "print(\"Final value %s \"%value)"
   ]
  },
  {
   "cell_type": "markdown",
   "metadata": {},
   "source": [
    "### Function scopes\n",
    "\n",
    "- Values inside functions exist in the *context* of functions\n",
    "  - Check this evaluating their own *hash value*\n",
    "- What if we wanted change the *value* variable?"
   ]
  },
  {
   "cell_type": "code",
   "execution_count": 95,
   "metadata": {
    "collapsed": false
   },
   "outputs": [
    {
     "name": "stdout",
     "output_type": "stream",
     "text": [
      "4541957512\n",
      "10\n",
      "4541957512\n",
      "4541957512\n",
      "3\n"
     ]
    }
   ],
   "source": [
    "class Foo:\n",
    "    def __init__(self, value):\n",
    "        self.value = value\n",
    "        \n",
    "foo_obj = Foo(value=10)\n",
    "\n",
    "def func(obj):\n",
    "    obj.value = 3\n",
    "\n",
    "#print(id(foo_obj))\n",
    "print(foo_obj.value)\n",
    "func(foo_obj)\n",
    "print(foo_obj.value)"
   ]
  },
  {
   "cell_type": "markdown",
   "metadata": {},
   "source": [
    "### Data mutation\n",
    "\n",
    "- *foo_obj* didn't change\n",
    "- **foo_obj.value** changed!\n",
    "- So, foo_obj changed or not? If so, can you always determine who changed it?"
   ]
  },
  {
   "cell_type": "markdown",
   "metadata": {},
   "source": [
    "### Closures"
   ]
  },
  {
   "cell_type": "markdown",
   "metadata": {},
   "source": [
    "## Immutability\n",
    "\n",
    "- Let's create a new object, instead of modifying an existing one"
   ]
  },
  {
   "cell_type": "code",
   "execution_count": null,
   "metadata": {
    "collapsed": true
   },
   "outputs": [],
   "source": [
    "import random\n",
    "import pprint\n",
    "from collections import namedtuple\n",
    "\n",
    "MyObj = namedtuple(\"MyClassReplacement\",(\"some_string\", \"my_smart_function\"))\n",
    "o = MyObj(some_string=str(random.random() + 4), my_smart_function=lambda item: float(item)*3)\n",
    "assert(o.my_smart_function(o.some_string) == float(o.some_string) * 3)\n",
    "\n",
    "# guess this\n",
    "#o.some_string = \"aaa\"\n",
    "\n"
   ]
  },
  {
   "cell_type": "markdown",
   "metadata": {
    "slideshow": {
     "slide_type": "subslide"
    }
   },
   "source": [
    "## Strict vs not strict evaluation\n",
    "\n",
    "- Strict evaluation requires that all operators needs to be evaluated\n",
    "- Non strict (or lazy) evaluation, evaluates expression if and when requested"
   ]
  },
  {
   "cell_type": "markdown",
   "metadata": {},
   "source": [
    "# Truth table"
   ]
  },
  {
   "cell_type": "code",
   "execution_count": 68,
   "metadata": {
    "collapsed": false
   },
   "outputs": [
    {
     "name": "stdout",
     "output_type": "stream",
     "text": [
      "evaluating ALL true values\n",
      "+++++++++++\n",
      "evaluating ALL true values\n",
      "evaluating ANY true values\n"
     ]
    },
    {
     "data": {
      "text/plain": [
       "True"
      ]
     },
     "execution_count": 68,
     "metadata": {},
     "output_type": "execute_result"
    }
   ],
   "source": [
    "import random\n",
    "\n",
    "generate_random_list = lambda size: [random.choice([True, False]) for _ in range(0, size)]\n",
    "\n",
    "def all_true_values(lst):\n",
    "    print(\"evaluating ALL true values\")\n",
    "    return all(lst)\n",
    "\n",
    "def any_true_value(lst):\n",
    "    print(\"evaluating ANY true values\")\n",
    "    return any(lst)\n",
    "\n",
    "all_true_values(generate_random_list(size=10)) and any_true_value(generate_random_list(size=10))\n",
    "print(\"+++++++++++\")\n",
    "all_true_values(generate_random_list(size=10)) or any_true_value(generate_random_list(size=10))\n",
    "\n",
    "\n"
   ]
  },
  {
   "cell_type": "markdown",
   "metadata": {
    "slideshow": {
     "slide_type": "subslide"
    }
   },
   "source": [
    "## Use case: Python iterables structures\n",
    "\n",
    "- **Iterable**: objects than can be iterated;\n",
    "- **Iterator**: objects than can be iterated and consumed only once, with two main problems:\n",
    "    - They track their state in a stateful object\n",
    "    - Their values are generated *a priori*\n",
    "    - They aren't lazy\n",
    "- **Generators**: lazy evaluated data structures:\n",
    "    - They track state in function, instead of object\n",
    "    - They don't act as normal functions\n",
    "    - They generate next member when invoked\n",
    "    - **asyncio** enjoy this approach :)"
   ]
  },
  {
   "cell_type": "code",
   "execution_count": 74,
   "metadata": {
    "collapsed": false,
    "slideshow": {
     "slide_type": "subslide"
    }
   },
   "outputs": [],
   "source": [
    "def _iter(size=100):\n",
    "    return iter(python_better_approach(size=size))\n",
    "\n",
    "\n",
    "def lazy_python_approach(size=100):\n",
    "     for item in range(10, size):\n",
    "        if not item % 2 and not str(item).endswith(\"4\"):\n",
    "            yield item\n",
    "\n",
    "def lazy_new_python_approach(size=100):\n",
    "    yield from (r for r in range(10, size) if not r % 2 and not str(r).endswith(\"4\"))"
   ]
  },
  {
   "cell_type": "markdown",
   "metadata": {
    "slideshow": {
     "slide_type": "subslide"
    }
   },
   "source": [
    "## Recursion vs loop\n",
    "- Functional programming requires a recursion approach vs loop iteration\n",
    "- Python suffers by recursion limit\n",
    "- Python does not offer any tail call optimization"
   ]
  },
  {
   "cell_type": "code",
   "execution_count": 7,
   "metadata": {
    "collapsed": false,
    "slideshow": {
     "slide_type": "subslide"
    }
   },
   "outputs": [],
   "source": [
    "def facti(n):\n",
    "    if n == 0: return 1\n",
    "    f= 1\n",
    "    for i in range(2,n):\n",
    "        f *= i\n",
    "    return f\n",
    "\n",
    "def fact(n):\n",
    "    if n == 0: return 1\n",
    "    else: return n*fact(n-1)"
   ]
  },
  {
   "cell_type": "markdown",
   "metadata": {
    "slideshow": {
     "slide_type": "subslide"
    }
   },
   "source": [
    "## Currying\n",
    "\n",
    "Multiple arguments functions mapped to single arguments functions"
   ]
  },
  {
   "cell_type": "code",
   "execution_count": 19,
   "metadata": {
    "collapsed": false,
    "slideshow": {
     "slide_type": "subslide"
    }
   },
   "outputs": [],
   "source": [
    "from random import randrange\n",
    "\n",
    "def mult(a, b, c ):\n",
    "    def wrapper_1(b):\n",
    "        def wrapper_2(c):\n",
    "            return a*b*c\n",
    "        return wrapper_2(c)\n",
    "    return wrapper_1(b)\n",
    "\n",
    "\n",
    "def mult_2(a):\n",
    "    def wrapper_1(b):\n",
    "        def wrapper_2(c):\n",
    "            return a*b*c\n",
    "        return wrapper_2\n",
    "    return wrapper_1\n",
    "\n",
    "\n",
    "assert(mult(2,4,8) == 64)\n",
    "assert(mult_2(2)(3)(4) == 24)"
   ]
  },
  {
   "cell_type": "markdown",
   "metadata": {
    "slideshow": {
     "slide_type": "subslide"
    }
   },
   "source": [
    "## Partials\n",
    "Python provides \"partial\" functions for manual currying"
   ]
  },
  {
   "cell_type": "code",
   "execution_count": 1,
   "metadata": {
    "collapsed": false,
    "slideshow": {
     "slide_type": "subslide"
    }
   },
   "outputs": [],
   "source": [
    "from functools import reduce\n",
    "import operator\n",
    "import random\n",
    "\n",
    "def two_random_sum():\n",
    "    return reduce(operator.sum, [random.random()]*2)\n",
    "\n",
    "def three_random_product():\n",
    "    return reduce(operator.mul, [random.random()]*3)\n",
    "\n",
    "def four_random_sub():\n",
    "    return reduce(operator.sub, [random.random()]*4)\n",
    "\n",
    "def five_random_pow ():\n",
    "    return reduce(operator.pow, [random.random()]*5)\n"
   ]
  },
  {
   "cell_type": "code",
   "execution_count": 24,
   "metadata": {
    "collapsed": false,
    "slideshow": {
     "slide_type": "subslide"
    }
   },
   "outputs": [],
   "source": [
    "def handle_random_numbers(size, function):\n",
    "    return reduce(function, [random.random()]*size)\n",
    "\n",
    "two_random_sum = partial(handle_random_numbers, size=2)\n",
    "three_random_sum = partial(handle_random_numbers, size=3)\n",
    "\n",
    "two_random_pow = partial(handle_random_numbers, size=2, function=operator.pow)\n",
    "five_random_product = partial(handle_random_numbers, size=5, function=operator.mul)\n"
   ]
  },
  {
   "cell_type": "markdown",
   "metadata": {
    "slideshow": {
     "slide_type": "subslide"
    }
   },
   "source": [
    "## Mixing OOP with FP\n",
    "\n",
    "- Static methods\n",
    "- Classes as container\n",
    "- Decorator pattern\n",
    "- A revisited strategy pattern"
   ]
  },
  {
   "cell_type": "markdown",
   "metadata": {},
   "source": [
    "## Decorator Pattern\n",
    "\n",
    "Return a modified version of a decorated function"
   ]
  },
  {
   "cell_type": "code",
   "execution_count": 116,
   "metadata": {
    "collapsed": false,
    "slideshow": {
     "slide_type": "subslide"
    }
   },
   "outputs": [],
   "source": [
    "from functools import wraps\n",
    "from functools import partial\n",
    "\n",
    "def get_ned_data(n):\n",
    "    def get_doubled_data(func, *args, **kwargs):\n",
    "        @wraps(func)\n",
    "        def _inner(*args, **kwargs):\n",
    "            kwargs[\"new_param\"] = kwargs[\"some_param\"]*n\n",
    "            return func(*args, **kwargs)\n",
    "        return _inner\n",
    "    return get_doubled_data"
   ]
  },
  {
   "cell_type": "code",
   "execution_count": null,
   "metadata": {
    "collapsed": true,
    "slideshow": {
     "slide_type": "subslide"
    }
   },
   "outputs": [],
   "source": [
    "@get_ned_data(n=2)\n",
    "def double_func(*args, **kwargs):\n",
    "    assert(kwargs[\"new_param\"] == kwargs[\"some_param\"]*2)\n",
    "\n",
    "@get_ned_data(n=3)\n",
    "def triple_func(*args, **kwargs):\n",
    "    assert(kwargs[\"new_param\"] == kwargs[\"some_param\"]*3)\n",
    "    \n",
    "double_func(some_param=3)\n",
    "triple_func(some_param=5)"
   ]
  },
  {
   "cell_type": "markdown",
   "metadata": {
    "slideshow": {
     "slide_type": "subslide"
    }
   },
   "source": [
    "## FP patterns\n",
    "\n",
    "- Option pattern\n",
    "- Memoization\n",
    "- Actor model"
   ]
  },
  {
   "cell_type": "markdown",
   "metadata": {},
   "source": [
    "# Monads\n",
    "\n",
    "- How to handle error in functional programming?\n",
    "- Practical example: parsing and tranforming data coming from http request\n",
    "- Python \"std\" libs have no support\n",
    "- External resources are required (fn)"
   ]
  },
  {
   "cell_type": "code",
   "execution_count": 23,
   "metadata": {
    "collapsed": false,
    "slideshow": {
     "slide_type": "subslide"
    }
   },
   "outputs": [],
   "source": [
    "from fn.monad import optionable\n",
    "\n",
    "def get(request, *args, **kwargs):\n",
    "    @optionable\n",
    "    def _get_values(data):\n",
    "        return data.get(\"values\", None)\n",
    "    _split = lambda item: item.split(\",\")\n",
    "    _strip = lambda item: item.replace(\" \", \"\")\n",
    "    _filter = lambda item: list(filter(lambda i: i, item))\n",
    "    values = _get_values(request.GET).map(_strip).map(_split).map(_filter).get_or([\"v1,v2\"])\n",
    "    return values\n",
    "\n",
    "\n",
    "from collections import namedtuple\n",
    "def test():\n",
    "    _req_class = namedtuple(\"Request\", (\"GET\"))\n",
    "    \n",
    "    request_1 = _req_class(dict(values=\"v1, v2,v3\"))\n",
    "    request_2 = _req_class(dict(values=\"v1,v2,v3 \"))\n",
    "    request_3 = _req_class(dict(values=\"v1, v2,v3, \"))\n",
    "    \n",
    "    assert(get(request_1) == ['v1', 'v2', 'v3'])\n",
    "    assert(get(request_2) == ['v1', 'v2', 'v3'])\n",
    "    assert(get(request_3) == ['v1', 'v2', 'v3'])\n",
    "test()"
   ]
  },
  {
   "cell_type": "code",
   "execution_count": 24,
   "metadata": {
    "collapsed": false,
    "slideshow": {
     "slide_type": "subslide"
    }
   },
   "outputs": [
    {
     "ename": "NameError",
     "evalue": "name 'get_object' is not defined",
     "output_type": "error",
     "traceback": [
      "\u001b[0;31m---------------------------------------------------------------------------\u001b[0m",
      "\u001b[0;31mNameError\u001b[0m                                 Traceback (most recent call last)",
      "\u001b[0;32m<ipython-input-24-86fb882d390e>\u001b[0m in \u001b[0;36m<module>\u001b[0;34m()\u001b[0m\n\u001b[0;32m----> 1\u001b[0;31m \u001b[0;34m@\u001b[0m\u001b[0mget_object\u001b[0m\u001b[0;34m(\u001b[0m\u001b[0mMeterInstance\u001b[0m\u001b[0;34m)\u001b[0m\u001b[0;34m\u001b[0m\u001b[0m\n\u001b[0m\u001b[1;32m      2\u001b[0m \u001b[0;32mdef\u001b[0m \u001b[0mpost\u001b[0m\u001b[0;34m(\u001b[0m\u001b[0mself\u001b[0m\u001b[0;34m,\u001b[0m \u001b[0mrequest\u001b[0m\u001b[0;34m,\u001b[0m \u001b[0;34m*\u001b[0m\u001b[0margs\u001b[0m\u001b[0;34m,\u001b[0m \u001b[0;34m**\u001b[0m\u001b[0mkwargs\u001b[0m\u001b[0;34m)\u001b[0m\u001b[0;34m:\u001b[0m\u001b[0;34m\u001b[0m\u001b[0m\n\u001b[1;32m      3\u001b[0m         \u001b[0;34m@\u001b[0m\u001b[0moptionable\u001b[0m\u001b[0;34m\u001b[0m\u001b[0m\n\u001b[1;32m      4\u001b[0m         \u001b[0;32mdef\u001b[0m \u001b[0mget_data\u001b[0m\u001b[0;34m(\u001b[0m\u001b[0mdata\u001b[0m\u001b[0;34m)\u001b[0m\u001b[0;34m:\u001b[0m\u001b[0;34m\u001b[0m\u001b[0m\n\u001b[1;32m      5\u001b[0m             \u001b[0;32mreturn\u001b[0m \u001b[0mdata\u001b[0m\u001b[0;34m.\u001b[0m\u001b[0mget\u001b[0m\u001b[0;34m(\u001b[0m\u001b[0;34m\"data\"\u001b[0m\u001b[0;34m,\u001b[0m \u001b[0;32mNone\u001b[0m\u001b[0;34m)\u001b[0m\u001b[0;34m\u001b[0m\u001b[0m\n",
      "\u001b[0;31mNameError\u001b[0m: name 'get_object' is not defined"
     ]
    }
   ],
   "source": [
    "@get_object(MeterInstance)\n",
    "def post(self, request, *args, **kwargs):\n",
    "        @optionable\n",
    "        def get_data(data):\n",
    "            return data.get(\"data\", None)\n",
    "        return get_data(request.DATA)\\\n",
    "            .map(\n",
    "                lambda item:\n",
    "                handle_error_configuration(item, kwargs[\"meter\"]))\\\n",
    "            .map(\n",
    "                lambda item:\n",
    "                Response(dict(detail=item), status=200))\\\n",
    "            .get_or(Response(\"BadRequest\", status=400))"
   ]
  },
  {
   "cell_type": "markdown",
   "metadata": {
    "slideshow": {
     "slide_type": "subslide"
    }
   },
   "source": [
    "# Useful libraries\n",
    "\n",
    "- **Fn.py** (https://github.com/kachayev/fn.py) (Scala functional features ported to Python)\n",
    "- **Underscore.py** (ported from underscore_js)"
   ]
  },
  {
   "cell_type": "markdown",
   "metadata": {
    "slideshow": {
     "slide_type": "slide"
    }
   },
   "source": [
    "# Summary\n",
    "- Functional programming for writing more succint code\n",
    "- Change viewpoint: think in terms of function\n",
    "- Python seems for dummies until you show some cool features\n",
    "- Python can be slow but with a fine tuning can be more efficien"
   ]
  },
  {
   "cell_type": "code",
   "execution_count": null,
   "metadata": {
    "collapsed": true
   },
   "outputs": [],
   "source": []
  },
  {
   "cell_type": "markdown",
   "metadata": {
    "slideshow": {
     "slide_type": "slide"
    }
   },
   "source": [
    "# Questions?"
   ]
  },
  {
   "cell_type": "code",
   "execution_count": null,
   "metadata": {
    "collapsed": true
   },
   "outputs": [],
   "source": []
  }
 ],
 "metadata": {
  "celltoolbar": "Slideshow",
  "kernelspec": {
   "display_name": "Python 3",
   "language": "python",
   "name": "python3"
  },
  "language_info": {
   "codemirror_mode": {
    "name": "ipython",
    "version": 3
   },
   "file_extension": ".py",
   "mimetype": "text/x-python",
   "name": "python",
   "nbconvert_exporter": "python",
   "pygments_lexer": "ipython3",
   "version": "3.4.2"
  }
 },
 "nbformat": 4,
 "nbformat_minor": 0
}
